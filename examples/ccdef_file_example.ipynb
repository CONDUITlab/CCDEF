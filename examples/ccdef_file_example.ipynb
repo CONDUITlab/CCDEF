{
 "cells": [
  {
   "cell_type": "markdown",
   "metadata": {},
   "source": [
    "# ccdef file structure example"
   ]
  },
  {
   "cell_type": "markdown",
   "metadata": {},
   "source": [
    "This example shows the HDF5 file root level attributes containing JSON formatted metadata as well as top level groups and the datasets contained within these groups"
   ]
  },
  {
   "cell_type": "code",
   "execution_count": 2,
   "metadata": {},
   "outputs": [],
   "source": [
    "import ccdef"
   ]
  },
  {
   "cell_type": "code",
   "execution_count": 3,
   "metadata": {},
   "outputs": [
    {
     "name": "stdout",
     "output_type": "stream",
     "text": [
      "Top level attributes and metadata:\n",
      ".meta : {\n",
      "    \"audata_pkg_version\": \"1.0.3\",\n",
      "    \"audata_version\": \"1.1\",\n",
      "    \"time_origin\": \"2191-01-10 12:15:21.000000 EST\",\n",
      "    \"source:\": \"Mimic III matched dataset\",\n",
      "    \"organization\": \"PhysioNet\",\n",
      "    \"record\": \"p000052-2191-01-10-12-15n\",\n",
      "    \"ccdef version\": 1.0,\n",
      "    \"ccdef package version\": 0.5\n",
      "}\n",
      "\n",
      "Top level groups\n",
      "/clinical\n",
      "/numerics\n",
      "/waveforms\n",
      "\n",
      "Top level datasets\n",
      "/mapping\n",
      "\tsignal : O\n",
      "\tdataset : O\n",
      "\tlocal_name : O\n",
      "\tcolumn : int64\n",
      "\tcategory : O\n",
      "\tloinc : O\n",
      "\tloinc_name : O\n",
      "\n",
      "Recursing top level groups\n",
      "\n",
      "Group: /clinical\n",
      "\n",
      "Group: /numerics\n",
      "\t/vitals\n",
      "\n",
      "Group: /waveforms\n",
      "\t/hemodynamics\n"
     ]
    }
   ],
   "source": [
    "_ = ccdef.file_info(sample_file)"
   ]
  },
  {
   "cell_type": "code",
   "execution_count": null,
   "metadata": {},
   "outputs": [],
   "source": []
  }
 ],
 "metadata": {
  "kernelspec": {
   "display_name": "Python 3",
   "language": "python",
   "name": "python3"
  },
  "language_info": {
   "codemirror_mode": {
    "name": "ipython",
    "version": 3
   },
   "file_extension": ".py",
   "mimetype": "text/x-python",
   "name": "python",
   "nbconvert_exporter": "python",
   "pygments_lexer": "ipython3",
   "version": "3.8.5"
  }
 },
 "nbformat": 4,
 "nbformat_minor": 4
}
